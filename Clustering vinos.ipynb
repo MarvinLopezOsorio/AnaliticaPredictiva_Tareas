{
  "cells": [
    {
      "cell_type": "markdown",
      "metadata": {
        "id": "view-in-github",
        "colab_type": "text"
      },
      "source": [
        "<a href=\"https://colab.research.google.com/github/MarvinLopezOsorio/AnaliticaPredictiva_Tareas/blob/main/Clustering%20vinos.ipynb\" target=\"_parent\"><img src=\"https://colab.research.google.com/assets/colab-badge.svg\" alt=\"Open In Colab\"/></a>"
      ]
    },
    {
      "cell_type": "markdown",
      "source": [
        "<center>\n",
        "\n",
        "![image.png](data:image/png;base64,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)"
      ],
      "metadata": {
        "id": "3RCYopdcIXdw"
      }
    },
    {
      "cell_type": "markdown",
      "source": [
        "<h1><b>\n",
        "Dirección de Estudios de Posgrado y Educación Continua\n",
        "<h2><b>\n",
        "Analítica Predictiva y Machine Learning con R, Python y Databricks\n"
      ],
      "metadata": {
        "id": "j42mdmyxIcTH"
      }
    },
    {
      "cell_type": "markdown",
      "source": [
        "[UNI-DEPEC](https://posgrado.uni.edu.ni)"
      ],
      "metadata": {
        "id": "XsrkH7_MIcJ_"
      }
    },
    {
      "cell_type": "markdown",
      "source": [
        "**Estudiante:** \n",
        "*   Marvin López Osorio\n",
        "*   Eduardo Rivera\n"
      ],
      "metadata": {
        "id": "Y-z7uL-hIXUY"
      }
    },
    {
      "cell_type": "markdown",
      "source": [
        "# **Tarea Modelos No Supervisados**\n",
        "## **Modelo de Clustering: Grupos de vino**\n",
        "Los set de datos procesados corresponden a datos de variantes de vino tinto. Se utilizó como fuente el [dataset en Kaggle](https://www.kaggle.com/uciml/red-wine-quality-cortez-et-al-2009) que referencia al [repositorio de la University of California, Irvine](https://archive.ics.uci.edu/ml/datasets/wine+quality). En este Colab se exploran los posibles 'tipos de vino' en funcion de sus características físico-químicas, no se consideró para el experimento la separación de vino tinto/blanco procedente de los dataset originales, con el objetivo de observar que conjuntos de vino pueden ser identificados, y si son claramente definidos."
      ],
      "metadata": {
        "id": "KxeErmPjIXA0"
      }
    },
    {
      "cell_type": "markdown",
      "source": [
        "###**Instalación de librerias necesarias**"
      ],
      "metadata": {
        "id": "4XTIcHIIKWzF"
      }
    },
    {
      "cell_type": "code",
      "source": [
        "#Instalar libreria\n",
        "!pip install pycaret"
      ],
      "metadata": {
        "id": "PnOSKtiYKR-J",
        "outputId": "6db764fd-7f0e-489d-f4c3-a01f222ef5eb",
        "colab": {
          "base_uri": "https://localhost:8080/"
        }
      },
      "execution_count": 5,
      "outputs": [
        {
          "output_type": "stream",
          "name": "stdout",
          "text": [
            "Requirement already satisfied: pycaret in /usr/local/lib/python3.7/dist-packages (2.3.5)\n",
            "Requirement already satisfied: pyLDAvis in /usr/local/lib/python3.7/dist-packages (from pycaret) (3.2.2)\n",
            "Requirement already satisfied: umap-learn in /usr/local/lib/python3.7/dist-packages (from pycaret) (0.5.2)\n",
            "Requirement already satisfied: spacy<2.4.0 in /usr/local/lib/python3.7/dist-packages (from pycaret) (2.2.4)\n",
            "Requirement already satisfied: kmodes>=0.10.1 in /usr/local/lib/python3.7/dist-packages (from pycaret) (0.11.1)\n",
            "Requirement already satisfied: nltk in /usr/local/lib/python3.7/dist-packages (from pycaret) (3.2.5)\n",
            "Requirement already satisfied: matplotlib in /usr/local/lib/python3.7/dist-packages (from pycaret) (3.2.2)\n",
            "Requirement already satisfied: scikit-plot in /usr/local/lib/python3.7/dist-packages (from pycaret) (0.3.7)\n",
            "Requirement already satisfied: pandas-profiling>=2.8.0 in /usr/local/lib/python3.7/dist-packages (from pycaret) (3.1.0)\n",
            "Requirement already satisfied: cufflinks>=0.17.0 in /usr/local/lib/python3.7/dist-packages (from pycaret) (0.17.3)\n",
            "Requirement already satisfied: textblob in /usr/local/lib/python3.7/dist-packages (from pycaret) (0.15.3)\n",
            "Requirement already satisfied: numpy==1.19.5 in /usr/local/lib/python3.7/dist-packages (from pycaret) (1.19.5)\n",
            "Requirement already satisfied: scipy<=1.5.4 in /usr/local/lib/python3.7/dist-packages (from pycaret) (1.5.4)\n",
            "Requirement already satisfied: imbalanced-learn==0.7.0 in /usr/local/lib/python3.7/dist-packages (from pycaret) (0.7.0)\n",
            "Requirement already satisfied: pyod in /usr/local/lib/python3.7/dist-packages (from pycaret) (0.9.5)\n",
            "Requirement already satisfied: scikit-learn==0.23.2 in /usr/local/lib/python3.7/dist-packages (from pycaret) (0.23.2)\n",
            "Requirement already satisfied: mlxtend>=0.17.0 in /usr/local/lib/python3.7/dist-packages (from pycaret) (0.19.0)\n",
            "Requirement already satisfied: Boruta in /usr/local/lib/python3.7/dist-packages (from pycaret) (0.3)\n",
            "Requirement already satisfied: ipywidgets in /usr/local/lib/python3.7/dist-packages (from pycaret) (7.6.5)\n",
            "Requirement already satisfied: gensim<4.0.0 in /usr/local/lib/python3.7/dist-packages (from pycaret) (3.6.0)\n",
            "Requirement already satisfied: joblib in /usr/local/lib/python3.7/dist-packages (from pycaret) (1.0.1)\n",
            "Requirement already satisfied: IPython in /usr/local/lib/python3.7/dist-packages (from pycaret) (5.5.0)\n",
            "Requirement already satisfied: seaborn in /usr/local/lib/python3.7/dist-packages (from pycaret) (0.11.2)\n",
            "Requirement already satisfied: lightgbm>=2.3.1 in /usr/local/lib/python3.7/dist-packages (from pycaret) (3.3.1)\n",
            "Requirement already satisfied: wordcloud in /usr/local/lib/python3.7/dist-packages (from pycaret) (1.5.0)\n",
            "Requirement already satisfied: pandas in /usr/local/lib/python3.7/dist-packages (from pycaret) (1.1.5)\n",
            "Requirement already satisfied: mlflow in /usr/local/lib/python3.7/dist-packages (from pycaret) (1.22.0)\n",
            "Requirement already satisfied: yellowbrick>=1.0.1 in /usr/local/lib/python3.7/dist-packages (from pycaret) (1.3.post1)\n",
            "Requirement already satisfied: plotly>=4.4.1 in /usr/local/lib/python3.7/dist-packages (from pycaret) (4.4.1)\n",
            "Requirement already satisfied: threadpoolctl>=2.0.0 in /usr/local/lib/python3.7/dist-packages (from scikit-learn==0.23.2->pycaret) (3.0.0)\n",
            "Requirement already satisfied: setuptools>=34.4.1 in /usr/local/lib/python3.7/dist-packages (from cufflinks>=0.17.0->pycaret) (57.4.0)\n",
            "Requirement already satisfied: colorlover>=0.2.1 in /usr/local/lib/python3.7/dist-packages (from cufflinks>=0.17.0->pycaret) (0.3.0)\n",
            "Requirement already satisfied: six>=1.9.0 in /usr/local/lib/python3.7/dist-packages (from cufflinks>=0.17.0->pycaret) (1.15.0)\n",
            "Requirement already satisfied: smart-open>=1.2.1 in /usr/local/lib/python3.7/dist-packages (from gensim<4.0.0->pycaret) (5.2.1)\n",
            "Requirement already satisfied: prompt-toolkit<2.0.0,>=1.0.4 in /usr/local/lib/python3.7/dist-packages (from IPython->pycaret) (1.0.18)\n",
            "Requirement already satisfied: simplegeneric>0.8 in /usr/local/lib/python3.7/dist-packages (from IPython->pycaret) (0.8.1)\n",
            "Requirement already satisfied: pickleshare in /usr/local/lib/python3.7/dist-packages (from IPython->pycaret) (0.7.5)\n",
            "Requirement already satisfied: traitlets>=4.2 in /usr/local/lib/python3.7/dist-packages (from IPython->pycaret) (5.1.1)\n",
            "Requirement already satisfied: decorator in /usr/local/lib/python3.7/dist-packages (from IPython->pycaret) (4.4.2)\n",
            "Requirement already satisfied: pexpect in /usr/local/lib/python3.7/dist-packages (from IPython->pycaret) (4.8.0)\n",
            "Requirement already satisfied: pygments in /usr/local/lib/python3.7/dist-packages (from IPython->pycaret) (2.6.1)\n",
            "Requirement already satisfied: ipython-genutils~=0.2.0 in /usr/local/lib/python3.7/dist-packages (from ipywidgets->pycaret) (0.2.0)\n",
            "Requirement already satisfied: nbformat>=4.2.0 in /usr/local/lib/python3.7/dist-packages (from ipywidgets->pycaret) (5.1.3)\n",
            "Requirement already satisfied: widgetsnbextension~=3.5.0 in /usr/local/lib/python3.7/dist-packages (from ipywidgets->pycaret) (3.5.2)\n",
            "Requirement already satisfied: jupyterlab-widgets>=1.0.0 in /usr/local/lib/python3.7/dist-packages (from ipywidgets->pycaret) (1.0.2)\n",
            "Requirement already satisfied: ipykernel>=4.5.1 in /usr/local/lib/python3.7/dist-packages (from ipywidgets->pycaret) (4.10.1)\n",
            "Requirement already satisfied: tornado>=4.0 in /usr/local/lib/python3.7/dist-packages (from ipykernel>=4.5.1->ipywidgets->pycaret) (5.1.1)\n",
            "Requirement already satisfied: jupyter-client in /usr/local/lib/python3.7/dist-packages (from ipykernel>=4.5.1->ipywidgets->pycaret) (5.3.5)\n",
            "Requirement already satisfied: wheel in /usr/local/lib/python3.7/dist-packages (from lightgbm>=2.3.1->pycaret) (0.37.0)\n",
            "Requirement already satisfied: cycler>=0.10 in /usr/local/lib/python3.7/dist-packages (from matplotlib->pycaret) (0.11.0)\n",
            "Requirement already satisfied: kiwisolver>=1.0.1 in /usr/local/lib/python3.7/dist-packages (from matplotlib->pycaret) (1.3.2)\n",
            "Requirement already satisfied: python-dateutil>=2.1 in /usr/local/lib/python3.7/dist-packages (from matplotlib->pycaret) (2.8.2)\n",
            "Requirement already satisfied: pyparsing!=2.0.4,!=2.1.2,!=2.1.6,>=2.0.1 in /usr/local/lib/python3.7/dist-packages (from matplotlib->pycaret) (3.0.6)\n",
            "Requirement already satisfied: jupyter-core in /usr/local/lib/python3.7/dist-packages (from nbformat>=4.2.0->ipywidgets->pycaret) (4.9.1)\n",
            "Requirement already satisfied: jsonschema!=2.5.0,>=2.4 in /usr/local/lib/python3.7/dist-packages (from nbformat>=4.2.0->ipywidgets->pycaret) (2.6.0)\n",
            "Requirement already satisfied: pytz>=2017.2 in /usr/local/lib/python3.7/dist-packages (from pandas->pycaret) (2018.9)\n",
            "Requirement already satisfied: phik>=0.11.1 in /usr/local/lib/python3.7/dist-packages (from pandas-profiling>=2.8.0->pycaret) (0.12.0)\n",
            "Requirement already satisfied: tqdm>=4.48.2 in /usr/local/lib/python3.7/dist-packages (from pandas-profiling>=2.8.0->pycaret) (4.62.3)\n",
            "Requirement already satisfied: multimethod>=1.4 in /usr/local/lib/python3.7/dist-packages (from pandas-profiling>=2.8.0->pycaret) (1.6)\n",
            "Requirement already satisfied: jinja2>=2.11.1 in /usr/local/lib/python3.7/dist-packages (from pandas-profiling>=2.8.0->pycaret) (2.11.3)\n",
            "Requirement already satisfied: missingno>=0.4.2 in /usr/local/lib/python3.7/dist-packages (from pandas-profiling>=2.8.0->pycaret) (0.5.0)\n",
            "Requirement already satisfied: PyYAML>=5.0.0 in /usr/local/lib/python3.7/dist-packages (from pandas-profiling>=2.8.0->pycaret) (6.0)\n",
            "Requirement already satisfied: htmlmin>=0.1.12 in /usr/local/lib/python3.7/dist-packages (from pandas-profiling>=2.8.0->pycaret) (0.1.12)\n",
            "Requirement already satisfied: visions[type_image_path]==0.7.4 in /usr/local/lib/python3.7/dist-packages (from pandas-profiling>=2.8.0->pycaret) (0.7.4)\n",
            "Requirement already satisfied: pydantic>=1.8.1 in /usr/local/lib/python3.7/dist-packages (from pandas-profiling>=2.8.0->pycaret) (1.8.2)\n",
            "Requirement already satisfied: tangled-up-in-unicode==0.1.0 in /usr/local/lib/python3.7/dist-packages (from pandas-profiling>=2.8.0->pycaret) (0.1.0)\n",
            "Requirement already satisfied: markupsafe~=2.0.1 in /usr/local/lib/python3.7/dist-packages (from pandas-profiling>=2.8.0->pycaret) (2.0.1)\n",
            "Requirement already satisfied: requests>=2.24.0 in /usr/local/lib/python3.7/dist-packages (from pandas-profiling>=2.8.0->pycaret) (2.26.0)\n",
            "Requirement already satisfied: networkx>=2.4 in /usr/local/lib/python3.7/dist-packages (from visions[type_image_path]==0.7.4->pandas-profiling>=2.8.0->pycaret) (2.6.3)\n",
            "Requirement already satisfied: attrs>=19.3.0 in /usr/local/lib/python3.7/dist-packages (from visions[type_image_path]==0.7.4->pandas-profiling>=2.8.0->pycaret) (21.2.0)\n",
            "Requirement already satisfied: imagehash in /usr/local/lib/python3.7/dist-packages (from visions[type_image_path]==0.7.4->pandas-profiling>=2.8.0->pycaret) (4.2.1)\n",
            "Requirement already satisfied: Pillow in /usr/local/lib/python3.7/dist-packages (from visions[type_image_path]==0.7.4->pandas-profiling>=2.8.0->pycaret) (7.1.2)\n",
            "Requirement already satisfied: retrying>=1.3.3 in /usr/local/lib/python3.7/dist-packages (from plotly>=4.4.1->pycaret) (1.3.3)\n",
            "Requirement already satisfied: wcwidth in /usr/local/lib/python3.7/dist-packages (from prompt-toolkit<2.0.0,>=1.0.4->IPython->pycaret) (0.2.5)\n",
            "Requirement already satisfied: typing-extensions>=3.7.4.3 in /usr/local/lib/python3.7/dist-packages (from pydantic>=1.8.1->pandas-profiling>=2.8.0->pycaret) (3.10.0.2)\n",
            "Requirement already satisfied: idna<4,>=2.5 in /usr/local/lib/python3.7/dist-packages (from requests>=2.24.0->pandas-profiling>=2.8.0->pycaret) (2.10)\n",
            "Requirement already satisfied: urllib3<1.27,>=1.21.1 in /usr/local/lib/python3.7/dist-packages (from requests>=2.24.0->pandas-profiling>=2.8.0->pycaret) (1.24.3)\n",
            "Requirement already satisfied: certifi>=2017.4.17 in /usr/local/lib/python3.7/dist-packages (from requests>=2.24.0->pandas-profiling>=2.8.0->pycaret) (2021.10.8)\n",
            "Requirement already satisfied: charset-normalizer~=2.0.0 in /usr/local/lib/python3.7/dist-packages (from requests>=2.24.0->pandas-profiling>=2.8.0->pycaret) (2.0.8)\n",
            "Requirement already satisfied: catalogue<1.1.0,>=0.0.7 in /usr/local/lib/python3.7/dist-packages (from spacy<2.4.0->pycaret) (1.0.0)\n",
            "Requirement already satisfied: preshed<3.1.0,>=3.0.2 in /usr/local/lib/python3.7/dist-packages (from spacy<2.4.0->pycaret) (3.0.6)\n",
            "Requirement already satisfied: srsly<1.1.0,>=1.0.2 in /usr/local/lib/python3.7/dist-packages (from spacy<2.4.0->pycaret) (1.0.5)\n",
            "Requirement already satisfied: blis<0.5.0,>=0.4.0 in /usr/local/lib/python3.7/dist-packages (from spacy<2.4.0->pycaret) (0.4.1)\n",
            "Requirement already satisfied: murmurhash<1.1.0,>=0.28.0 in /usr/local/lib/python3.7/dist-packages (from spacy<2.4.0->pycaret) (1.0.6)\n",
            "Requirement already satisfied: plac<1.2.0,>=0.9.6 in /usr/local/lib/python3.7/dist-packages (from spacy<2.4.0->pycaret) (1.1.3)\n",
            "Requirement already satisfied: thinc==7.4.0 in /usr/local/lib/python3.7/dist-packages (from spacy<2.4.0->pycaret) (7.4.0)\n",
            "Requirement already satisfied: cymem<2.1.0,>=2.0.2 in /usr/local/lib/python3.7/dist-packages (from spacy<2.4.0->pycaret) (2.0.6)\n",
            "Requirement already satisfied: wasabi<1.1.0,>=0.4.0 in /usr/local/lib/python3.7/dist-packages (from spacy<2.4.0->pycaret) (0.8.2)\n",
            "Requirement already satisfied: importlib-metadata>=0.20 in /usr/local/lib/python3.7/dist-packages (from catalogue<1.1.0,>=0.0.7->spacy<2.4.0->pycaret) (4.8.2)\n",
            "Requirement already satisfied: zipp>=0.5 in /usr/local/lib/python3.7/dist-packages (from importlib-metadata>=0.20->catalogue<1.1.0,>=0.0.7->spacy<2.4.0->pycaret) (3.6.0)\n",
            "Requirement already satisfied: notebook>=4.4.1 in /usr/local/lib/python3.7/dist-packages (from widgetsnbextension~=3.5.0->ipywidgets->pycaret) (5.3.1)\n",
            "Requirement already satisfied: nbconvert in /usr/local/lib/python3.7/dist-packages (from notebook>=4.4.1->widgetsnbextension~=3.5.0->ipywidgets->pycaret) (5.6.1)\n",
            "Requirement already satisfied: Send2Trash in /usr/local/lib/python3.7/dist-packages (from notebook>=4.4.1->widgetsnbextension~=3.5.0->ipywidgets->pycaret) (1.8.0)\n",
            "Requirement already satisfied: terminado>=0.8.1 in /usr/local/lib/python3.7/dist-packages (from notebook>=4.4.1->widgetsnbextension~=3.5.0->ipywidgets->pycaret) (0.12.1)\n",
            "Requirement already satisfied: pyzmq>=13 in /usr/local/lib/python3.7/dist-packages (from jupyter-client->ipykernel>=4.5.1->ipywidgets->pycaret) (22.3.0)\n",
            "Requirement already satisfied: ptyprocess in /usr/local/lib/python3.7/dist-packages (from terminado>=0.8.1->notebook>=4.4.1->widgetsnbextension~=3.5.0->ipywidgets->pycaret) (0.7.0)\n",
            "Requirement already satisfied: PyWavelets in /usr/local/lib/python3.7/dist-packages (from imagehash->visions[type_image_path]==0.7.4->pandas-profiling>=2.8.0->pycaret) (1.2.0)\n",
            "Requirement already satisfied: Flask in /usr/local/lib/python3.7/dist-packages (from mlflow->pycaret) (1.1.4)\n",
            "Requirement already satisfied: protobuf>=3.7.0 in /usr/local/lib/python3.7/dist-packages (from mlflow->pycaret) (3.17.3)\n",
            "Requirement already satisfied: sqlalchemy in /usr/local/lib/python3.7/dist-packages (from mlflow->pycaret) (1.4.27)\n",
            "Requirement already satisfied: gitpython>=2.1.0 in /usr/local/lib/python3.7/dist-packages (from mlflow->pycaret) (3.1.24)\n",
            "Requirement already satisfied: cloudpickle in /usr/local/lib/python3.7/dist-packages (from mlflow->pycaret) (1.3.0)\n",
            "Requirement already satisfied: databricks-cli>=0.8.7 in /usr/local/lib/python3.7/dist-packages (from mlflow->pycaret) (0.16.2)\n",
            "Requirement already satisfied: packaging in /usr/local/lib/python3.7/dist-packages (from mlflow->pycaret) (21.3)\n",
            "Requirement already satisfied: docker>=4.0.0 in /usr/local/lib/python3.7/dist-packages (from mlflow->pycaret) (5.0.3)\n",
            "Requirement already satisfied: entrypoints in /usr/local/lib/python3.7/dist-packages (from mlflow->pycaret) (0.3)\n",
            "Requirement already satisfied: prometheus-flask-exporter in /usr/local/lib/python3.7/dist-packages (from mlflow->pycaret) (0.18.6)\n",
            "Requirement already satisfied: gunicorn in /usr/local/lib/python3.7/dist-packages (from mlflow->pycaret) (20.1.0)\n",
            "Requirement already satisfied: sqlparse>=0.3.1 in /usr/local/lib/python3.7/dist-packages (from mlflow->pycaret) (0.4.2)\n",
            "Requirement already satisfied: click>=7.0 in /usr/local/lib/python3.7/dist-packages (from mlflow->pycaret) (7.1.2)\n",
            "Requirement already satisfied: alembic<=1.4.1 in /usr/local/lib/python3.7/dist-packages (from mlflow->pycaret) (1.4.1)\n",
            "Requirement already satisfied: querystring-parser in /usr/local/lib/python3.7/dist-packages (from mlflow->pycaret) (1.2.4)\n",
            "Requirement already satisfied: python-editor>=0.3 in /usr/local/lib/python3.7/dist-packages (from alembic<=1.4.1->mlflow->pycaret) (1.0.4)\n",
            "Requirement already satisfied: Mako in /usr/local/lib/python3.7/dist-packages (from alembic<=1.4.1->mlflow->pycaret) (1.1.6)\n",
            "Requirement already satisfied: tabulate>=0.7.7 in /usr/local/lib/python3.7/dist-packages (from databricks-cli>=0.8.7->mlflow->pycaret) (0.8.9)\n",
            "Requirement already satisfied: websocket-client>=0.32.0 in /usr/local/lib/python3.7/dist-packages (from docker>=4.0.0->mlflow->pycaret) (1.2.3)\n",
            "Requirement already satisfied: gitdb<5,>=4.0.1 in /usr/local/lib/python3.7/dist-packages (from gitpython>=2.1.0->mlflow->pycaret) (4.0.9)\n",
            "Requirement already satisfied: smmap<6,>=3.0.1 in /usr/local/lib/python3.7/dist-packages (from gitdb<5,>=4.0.1->gitpython>=2.1.0->mlflow->pycaret) (5.0.0)\n",
            "Requirement already satisfied: greenlet!=0.4.17 in /usr/local/lib/python3.7/dist-packages (from sqlalchemy->mlflow->pycaret) (1.1.2)\n",
            "Requirement already satisfied: Werkzeug<2.0,>=0.15 in /usr/local/lib/python3.7/dist-packages (from Flask->mlflow->pycaret) (1.0.1)\n",
            "Requirement already satisfied: itsdangerous<2.0,>=0.24 in /usr/local/lib/python3.7/dist-packages (from Flask->mlflow->pycaret) (1.1.0)\n",
            "Requirement already satisfied: pandocfilters>=1.4.1 in /usr/local/lib/python3.7/dist-packages (from nbconvert->notebook>=4.4.1->widgetsnbextension~=3.5.0->ipywidgets->pycaret) (1.5.0)\n",
            "Requirement already satisfied: mistune<2,>=0.8.1 in /usr/local/lib/python3.7/dist-packages (from nbconvert->notebook>=4.4.1->widgetsnbextension~=3.5.0->ipywidgets->pycaret) (0.8.4)\n",
            "Requirement already satisfied: defusedxml in /usr/local/lib/python3.7/dist-packages (from nbconvert->notebook>=4.4.1->widgetsnbextension~=3.5.0->ipywidgets->pycaret) (0.7.1)\n",
            "Requirement already satisfied: bleach in /usr/local/lib/python3.7/dist-packages (from nbconvert->notebook>=4.4.1->widgetsnbextension~=3.5.0->ipywidgets->pycaret) (4.1.0)\n",
            "Requirement already satisfied: testpath in /usr/local/lib/python3.7/dist-packages (from nbconvert->notebook>=4.4.1->widgetsnbextension~=3.5.0->ipywidgets->pycaret) (0.5.0)\n",
            "Requirement already satisfied: webencodings in /usr/local/lib/python3.7/dist-packages (from bleach->nbconvert->notebook>=4.4.1->widgetsnbextension~=3.5.0->ipywidgets->pycaret) (0.5.1)\n",
            "Requirement already satisfied: prometheus-client in /usr/local/lib/python3.7/dist-packages (from prometheus-flask-exporter->mlflow->pycaret) (0.12.0)\n",
            "Requirement already satisfied: funcy in /usr/local/lib/python3.7/dist-packages (from pyLDAvis->pycaret) (1.16)\n",
            "Requirement already satisfied: future in /usr/local/lib/python3.7/dist-packages (from pyLDAvis->pycaret) (0.16.0)\n",
            "Requirement already satisfied: numexpr in /usr/local/lib/python3.7/dist-packages (from pyLDAvis->pycaret) (2.7.3)\n",
            "Requirement already satisfied: numba>=0.35 in /usr/local/lib/python3.7/dist-packages (from pyod->pycaret) (0.51.2)\n",
            "Requirement already satisfied: statsmodels in /usr/local/lib/python3.7/dist-packages (from pyod->pycaret) (0.10.2)\n",
            "Requirement already satisfied: llvmlite<0.35,>=0.34.0.dev0 in /usr/local/lib/python3.7/dist-packages (from numba>=0.35->pyod->pycaret) (0.34.0)\n",
            "Requirement already satisfied: patsy>=0.4.0 in /usr/local/lib/python3.7/dist-packages (from statsmodels->pyod->pycaret) (0.5.2)\n",
            "Requirement already satisfied: pynndescent>=0.5 in /usr/local/lib/python3.7/dist-packages (from umap-learn->pycaret) (0.5.5)\n"
          ]
        }
      ]
    },
    {
      "cell_type": "markdown",
      "source": [
        "###**Carga de librerias necesarias**"
      ],
      "metadata": {
        "id": "pSAkfyLXL_xo"
      }
    },
    {
      "cell_type": "code",
      "execution_count": null,
      "metadata": {
        "id": "lIYdn1woOS1n"
      },
      "outputs": [],
      "source": [
        "import pandas as pd\n",
        "import matplotlib.pyplot as plt\n",
        "import numpy as np\n",
        "import seaborn as sns\n",
        "from pycaret.clustering import *"
      ]
    },
    {
      "cell_type": "code",
      "source": [
        "#Referencias al repositorio de origen\n",
        "repositorio = 'https://archive.ics.uci.edu/ml/machine-learning-databases/wine-quality/'\n",
        "red_wine_file = 'winequality-red.csv'\n",
        "white_wine_file = 'winequality-white.csv'\n",
        "\n",
        "#Leer datos\n",
        "red_wine = pd.read_csv(repositorio + red_wine_file, sep=';')\n",
        "white_wine = pd.read_csv(repositorio + white_wine_file, sep=';')\n",
        "\n",
        "#Combinar los dataset\n",
        "vinos = red_wine.append(white_wine)\n",
        "vinos"
      ],
      "metadata": {
        "id": "kKmEPC2qCSsA",
        "outputId": "5af9907b-64e1-4cf4-bac1-54b8dbba1866",
        "colab": {
          "base_uri": "https://localhost:8080/",
          "height": 441
        }
      },
      "execution_count": null,
      "outputs": [
        {
          "output_type": "execute_result",
          "data": {
            "text/html": [
              "<div>\n",
              "<style scoped>\n",
              "    .dataframe tbody tr th:only-of-type {\n",
              "        vertical-align: middle;\n",
              "    }\n",
              "\n",
              "    .dataframe tbody tr th {\n",
              "        vertical-align: top;\n",
              "    }\n",
              "\n",
              "    .dataframe thead th {\n",
              "        text-align: right;\n",
              "    }\n",
              "</style>\n",
              "<table border=\"1\" class=\"dataframe\">\n",
              "  <thead>\n",
              "    <tr style=\"text-align: right;\">\n",
              "      <th></th>\n",
              "      <th>fixed acidity</th>\n",
              "      <th>volatile acidity</th>\n",
              "      <th>citric acid</th>\n",
              "      <th>residual sugar</th>\n",
              "      <th>chlorides</th>\n",
              "      <th>free sulfur dioxide</th>\n",
              "      <th>total sulfur dioxide</th>\n",
              "      <th>density</th>\n",
              "      <th>pH</th>\n",
              "      <th>sulphates</th>\n",
              "      <th>alcohol</th>\n",
              "      <th>quality</th>\n",
              "    </tr>\n",
              "  </thead>\n",
              "  <tbody>\n",
              "    <tr>\n",
              "      <th>0</th>\n",
              "      <td>7.4</td>\n",
              "      <td>0.70</td>\n",
              "      <td>0.00</td>\n",
              "      <td>1.9</td>\n",
              "      <td>0.076</td>\n",
              "      <td>11.0</td>\n",
              "      <td>34.0</td>\n",
              "      <td>0.99780</td>\n",
              "      <td>3.51</td>\n",
              "      <td>0.56</td>\n",
              "      <td>9.4</td>\n",
              "      <td>5</td>\n",
              "    </tr>\n",
              "    <tr>\n",
              "      <th>1</th>\n",
              "      <td>7.8</td>\n",
              "      <td>0.88</td>\n",
              "      <td>0.00</td>\n",
              "      <td>2.6</td>\n",
              "      <td>0.098</td>\n",
              "      <td>25.0</td>\n",
              "      <td>67.0</td>\n",
              "      <td>0.99680</td>\n",
              "      <td>3.20</td>\n",
              "      <td>0.68</td>\n",
              "      <td>9.8</td>\n",
              "      <td>5</td>\n",
              "    </tr>\n",
              "    <tr>\n",
              "      <th>2</th>\n",
              "      <td>7.8</td>\n",
              "      <td>0.76</td>\n",
              "      <td>0.04</td>\n",
              "      <td>2.3</td>\n",
              "      <td>0.092</td>\n",
              "      <td>15.0</td>\n",
              "      <td>54.0</td>\n",
              "      <td>0.99700</td>\n",
              "      <td>3.26</td>\n",
              "      <td>0.65</td>\n",
              "      <td>9.8</td>\n",
              "      <td>5</td>\n",
              "    </tr>\n",
              "    <tr>\n",
              "      <th>3</th>\n",
              "      <td>11.2</td>\n",
              "      <td>0.28</td>\n",
              "      <td>0.56</td>\n",
              "      <td>1.9</td>\n",
              "      <td>0.075</td>\n",
              "      <td>17.0</td>\n",
              "      <td>60.0</td>\n",
              "      <td>0.99800</td>\n",
              "      <td>3.16</td>\n",
              "      <td>0.58</td>\n",
              "      <td>9.8</td>\n",
              "      <td>6</td>\n",
              "    </tr>\n",
              "    <tr>\n",
              "      <th>4</th>\n",
              "      <td>7.4</td>\n",
              "      <td>0.70</td>\n",
              "      <td>0.00</td>\n",
              "      <td>1.9</td>\n",
              "      <td>0.076</td>\n",
              "      <td>11.0</td>\n",
              "      <td>34.0</td>\n",
              "      <td>0.99780</td>\n",
              "      <td>3.51</td>\n",
              "      <td>0.56</td>\n",
              "      <td>9.4</td>\n",
              "      <td>5</td>\n",
              "    </tr>\n",
              "    <tr>\n",
              "      <th>...</th>\n",
              "      <td>...</td>\n",
              "      <td>...</td>\n",
              "      <td>...</td>\n",
              "      <td>...</td>\n",
              "      <td>...</td>\n",
              "      <td>...</td>\n",
              "      <td>...</td>\n",
              "      <td>...</td>\n",
              "      <td>...</td>\n",
              "      <td>...</td>\n",
              "      <td>...</td>\n",
              "      <td>...</td>\n",
              "    </tr>\n",
              "    <tr>\n",
              "      <th>4893</th>\n",
              "      <td>6.2</td>\n",
              "      <td>0.21</td>\n",
              "      <td>0.29</td>\n",
              "      <td>1.6</td>\n",
              "      <td>0.039</td>\n",
              "      <td>24.0</td>\n",
              "      <td>92.0</td>\n",
              "      <td>0.99114</td>\n",
              "      <td>3.27</td>\n",
              "      <td>0.50</td>\n",
              "      <td>11.2</td>\n",
              "      <td>6</td>\n",
              "    </tr>\n",
              "    <tr>\n",
              "      <th>4894</th>\n",
              "      <td>6.6</td>\n",
              "      <td>0.32</td>\n",
              "      <td>0.36</td>\n",
              "      <td>8.0</td>\n",
              "      <td>0.047</td>\n",
              "      <td>57.0</td>\n",
              "      <td>168.0</td>\n",
              "      <td>0.99490</td>\n",
              "      <td>3.15</td>\n",
              "      <td>0.46</td>\n",
              "      <td>9.6</td>\n",
              "      <td>5</td>\n",
              "    </tr>\n",
              "    <tr>\n",
              "      <th>4895</th>\n",
              "      <td>6.5</td>\n",
              "      <td>0.24</td>\n",
              "      <td>0.19</td>\n",
              "      <td>1.2</td>\n",
              "      <td>0.041</td>\n",
              "      <td>30.0</td>\n",
              "      <td>111.0</td>\n",
              "      <td>0.99254</td>\n",
              "      <td>2.99</td>\n",
              "      <td>0.46</td>\n",
              "      <td>9.4</td>\n",
              "      <td>6</td>\n",
              "    </tr>\n",
              "    <tr>\n",
              "      <th>4896</th>\n",
              "      <td>5.5</td>\n",
              "      <td>0.29</td>\n",
              "      <td>0.30</td>\n",
              "      <td>1.1</td>\n",
              "      <td>0.022</td>\n",
              "      <td>20.0</td>\n",
              "      <td>110.0</td>\n",
              "      <td>0.98869</td>\n",
              "      <td>3.34</td>\n",
              "      <td>0.38</td>\n",
              "      <td>12.8</td>\n",
              "      <td>7</td>\n",
              "    </tr>\n",
              "    <tr>\n",
              "      <th>4897</th>\n",
              "      <td>6.0</td>\n",
              "      <td>0.21</td>\n",
              "      <td>0.38</td>\n",
              "      <td>0.8</td>\n",
              "      <td>0.020</td>\n",
              "      <td>22.0</td>\n",
              "      <td>98.0</td>\n",
              "      <td>0.98941</td>\n",
              "      <td>3.26</td>\n",
              "      <td>0.32</td>\n",
              "      <td>11.8</td>\n",
              "      <td>6</td>\n",
              "    </tr>\n",
              "  </tbody>\n",
              "</table>\n",
              "<p>6497 rows × 12 columns</p>\n",
              "</div>"
            ],
            "text/plain": [
              "      fixed acidity  volatile acidity  citric acid  ...  sulphates  alcohol  quality\n",
              "0               7.4              0.70         0.00  ...       0.56      9.4        5\n",
              "1               7.8              0.88         0.00  ...       0.68      9.8        5\n",
              "2               7.8              0.76         0.04  ...       0.65      9.8        5\n",
              "3              11.2              0.28         0.56  ...       0.58      9.8        6\n",
              "4               7.4              0.70         0.00  ...       0.56      9.4        5\n",
              "...             ...               ...          ...  ...        ...      ...      ...\n",
              "4893            6.2              0.21         0.29  ...       0.50     11.2        6\n",
              "4894            6.6              0.32         0.36  ...       0.46      9.6        5\n",
              "4895            6.5              0.24         0.19  ...       0.46      9.4        6\n",
              "4896            5.5              0.29         0.30  ...       0.38     12.8        7\n",
              "4897            6.0              0.21         0.38  ...       0.32     11.8        6\n",
              "\n",
              "[6497 rows x 12 columns]"
            ]
          },
          "metadata": {},
          "execution_count": 2
        }
      ]
    },
    {
      "cell_type": "markdown",
      "source": [
        "#EDA"
      ],
      "metadata": {
        "id": "tzVm0juqEl4o"
      }
    },
    {
      "cell_type": "code",
      "source": [
        ""
      ],
      "metadata": {
        "id": "X99M5wfAEtKT"
      },
      "execution_count": null,
      "outputs": []
    }
  ],
  "metadata": {
    "colab": {
      "name": "scratchpad",
      "provenance": [],
      "include_colab_link": true
    },
    "kernelspec": {
      "display_name": "Python 3",
      "name": "python3"
    }
  },
  "nbformat": 4,
  "nbformat_minor": 0
}